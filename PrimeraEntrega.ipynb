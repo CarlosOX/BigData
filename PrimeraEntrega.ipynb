{
 "cells": [
  {
   "cell_type": "markdown",
   "id": "961d02de",
   "metadata": {},
   "source": [
    "# Módulo 1 Utilización, procesamiento y visualización de grandes volúmenes de datos"
   ]
  },
  {
   "cell_type": "markdown",
   "id": "333488aa",
   "metadata": {},
   "source": [
    "### BITCOIN Y RELACION CON RANSOMWARE"
   ]
  },
  {
   "cell_type": "markdown",
   "id": "fcef2074",
   "metadata": {},
   "source": [
    "Este conjunto de datos contiene información sobre transacciones de Bitcoin y está específicamente diseñado para identificar patrones de transacciones que podrían estar relacionados con ransomware (software malicioso que cifra los archivos de un usuario y pide un rescate para recuperarlos).\n",
    "\n",
    "Las características (o datos) proporcionados en el conjunto de datos ofrecen detalles sobre cómo las transacciones de Bitcoin están estructuradas y cómo las monedas se mueven en la red. Aquí hay algunos conceptos clave:\n",
    "\n",
    "Direcciones de Bitcoin (address): Cada transacción en Bitcoin involucra direcciones de origen y destino. Estas direcciones son como las cuentas bancarias en el mundo del dinero digital.\n",
    "\n",
    "Patrones de Transacción (length, weight, count, looped, neighbors): Estas características proporcionan información sobre cómo las transacciones se dividen, se mezclan y se fusionan. Por ejemplo, length indica cuántas veces las monedas se mezclan en una transacción para ocultar su origen. weight y count proporcionan detalles sobre cómo se combinan las monedas en múltiples direcciones. looped indica si las monedas fueron divididas y fusionadas nuevamente en una dirección final.\n",
    "\n",
    "Cantidad de Monedas (income) y Etiquetas (label): income representa la cantidad de monedas (en satoshis) involucradas en la transacción. label indica si la transacción está asociada con un tipo específico de ransomware o si se clasifica como \"white\" si no se sabe si está relacionada con ransomware."
   ]
  },
  {
   "cell_type": "markdown",
   "id": "c6a1415a",
   "metadata": {},
   "source": [
    "#### Primero iniciamos la sesion de spark"
   ]
  },
  {
   "cell_type": "markdown",
   "id": "47fe079d",
   "metadata": {},
   "source": [
    "La explicacion de lo que se hace en el script viene en comentarios"
   ]
  },
  {
   "cell_type": "code",
   "execution_count": 1,
   "id": "e3739d07-d8eb-4982-8ab6-4c74404aafb9",
   "metadata": {
    "scrolled": true
   },
   "outputs": [],
   "source": [
    "from pyspark.sql import SparkSession\n"
   ]
  },
  {
   "cell_type": "code",
   "execution_count": 2,
   "id": "95d2221b-9e2c-48ba-a833-846ec21901f8",
   "metadata": {
    "scrolled": true
   },
   "outputs": [
    {
     "name": "stderr",
     "output_type": "stream",
     "text": [
      "23/10/30 16:09:05 WARN Utils: Your hostname, carlosoc resolves to a loopback address: 127.0.1.1; using 192.168.100.100 instead (on interface wlp3s0)\n",
      "23/10/30 16:09:05 WARN Utils: Set SPARK_LOCAL_IP if you need to bind to another address\n",
      "Setting default log level to \"WARN\".\n",
      "To adjust logging level use sc.setLogLevel(newLevel). For SparkR, use setLogLevel(newLevel).\n",
      "23/10/30 16:09:05 WARN NativeCodeLoader: Unable to load native-hadoop library for your platform... using builtin-java classes where applicable\n"
     ]
    }
   ],
   "source": [
    "spark = SparkSession.builder.appName(\"Nombre de tu Aplicación\").getOrCreate()\n",
    "\n",
    "\n"
   ]
  },
  {
   "cell_type": "code",
   "execution_count": 3,
   "id": "2f1ffa1a-c903-4dbc-87bc-cdacd48e627d",
   "metadata": {},
   "outputs": [],
   "source": [
    "# Cargar datos en un DataFrame de Spark\n",
    "data = spark.read.format(\"csv\").option(\"header\", \"true\").option(\"delimiter\", \",\").load(\"bitcoin.csv\")"
   ]
  },
  {
   "cell_type": "code",
   "execution_count": 4,
   "id": "c4b78a3d-928f-4bcf-bb22-7513b82dcccf",
   "metadata": {},
   "outputs": [
    {
     "name": "stdout",
     "output_type": "stream",
     "text": [
      "+--------------------+----+---+------+-------------------+-----+------+---------+---------+---------------+\n",
      "|             address|year|day|length|             weight|count|looped|neighbors|   income|          label|\n",
      "+--------------------+----+---+------+-------------------+-----+------+---------+---------+---------------+\n",
      "|111K8kZAEnJg245r2...|2017| 11|    18|0.00833333333333333|    1|     0|        2|100050000|princetonCerber|\n",
      "|1123pJv8jzeFQaCV4...|2016|132|    44|     0.000244140625|    1|     0|        1|    1e+08| princetonLocky|\n",
      "|112536im7hy6wtKbp...|2016|246|     0|                  1|    1|     0|        2|    2e+08|princetonCerber|\n",
      "|1126eDRw2wqSkWosj...|2016|322|    72|         0.00390625|    1|     0|        2| 71200000|princetonCerber|\n",
      "|1129TSjKtx65E35Gi...|2016|238|   144| 0.0728484071989931|  456|     0|        1|    2e+08| princetonLocky|\n",
      "+--------------------+----+---+------+-------------------+-----+------+---------+---------+---------------+\n",
      "only showing top 5 rows\n",
      "\n"
     ]
    }
   ],
   "source": [
    "# Mostrar las primeras 5 filas del DataFrame\n",
    "data.show(5)\n"
   ]
  },
  {
   "cell_type": "code",
   "execution_count": 5,
   "id": "31b57af6-437c-47d6-8efa-f1e78d2b5285",
   "metadata": {},
   "outputs": [],
   "source": [
    "# Eliminar filas con valores nulos en cualquier columna\n",
    "data_cleaned = data.dropna()\n"
   ]
  },
  {
   "cell_type": "code",
   "execution_count": 6,
   "id": "b199f6e7-47d2-43c0-b7a1-d8e81358c09e",
   "metadata": {},
   "outputs": [
    {
     "data": {
      "text/plain": [
       "[('address', 'string'),\n",
       " ('year', 'string'),\n",
       " ('day', 'string'),\n",
       " ('length', 'string'),\n",
       " ('weight', 'string'),\n",
       " ('count', 'string'),\n",
       " ('looped', 'string'),\n",
       " ('neighbors', 'string'),\n",
       " ('income', 'string'),\n",
       " ('label', 'string')]"
      ]
     },
     "execution_count": 6,
     "metadata": {},
     "output_type": "execute_result"
    }
   ],
   "source": [
    "# Mostrar los tipos de datos de cada columna para analizar que tipo de variables tenemos\n",
    "data_cleaned.dtypes\n"
   ]
  },
  {
   "cell_type": "code",
   "execution_count": 7,
   "id": "2a4ab769-281c-4ebf-a00e-cb41f68a77d5",
   "metadata": {},
   "outputs": [
    {
     "name": "stderr",
     "output_type": "stream",
     "text": [
      "                                                                                \r"
     ]
    },
    {
     "name": "stdout",
     "output_type": "stream",
     "text": [
      "Columna 'address' tiene 2631095 valores únicos.\n"
     ]
    },
    {
     "name": "stderr",
     "output_type": "stream",
     "text": [
      "                                                                                \r"
     ]
    },
    {
     "name": "stdout",
     "output_type": "stream",
     "text": [
      "Columna 'year' tiene 8 valores únicos.\n"
     ]
    },
    {
     "name": "stderr",
     "output_type": "stream",
     "text": [
      "                                                                                \r"
     ]
    },
    {
     "name": "stdout",
     "output_type": "stream",
     "text": [
      "Columna 'day' tiene 365 valores únicos.\n"
     ]
    },
    {
     "name": "stderr",
     "output_type": "stream",
     "text": [
      "                                                                                \r"
     ]
    },
    {
     "name": "stdout",
     "output_type": "stream",
     "text": [
      "Columna 'length' tiene 73 valores únicos.\n"
     ]
    },
    {
     "name": "stderr",
     "output_type": "stream",
     "text": [
      "                                                                                \r"
     ]
    },
    {
     "name": "stdout",
     "output_type": "stream",
     "text": [
      "Columna 'weight' tiene 785669 valores únicos.\n"
     ]
    },
    {
     "name": "stderr",
     "output_type": "stream",
     "text": [
      "                                                                                \r"
     ]
    },
    {
     "name": "stdout",
     "output_type": "stream",
     "text": [
      "Columna 'count' tiene 11572 valores únicos.\n"
     ]
    },
    {
     "name": "stderr",
     "output_type": "stream",
     "text": [
      "                                                                                \r"
     ]
    },
    {
     "name": "stdout",
     "output_type": "stream",
     "text": [
      "Columna 'looped' tiene 10168 valores únicos.\n"
     ]
    },
    {
     "name": "stderr",
     "output_type": "stream",
     "text": [
      "                                                                                \r"
     ]
    },
    {
     "name": "stdout",
     "output_type": "stream",
     "text": [
      "Columna 'neighbors' tiene 814 valores únicos.\n"
     ]
    },
    {
     "name": "stderr",
     "output_type": "stream",
     "text": [
      "                                                                                \r"
     ]
    },
    {
     "name": "stdout",
     "output_type": "stream",
     "text": [
      "Columna 'income' tiene 1866365 valores únicos.\n"
     ]
    },
    {
     "name": "stderr",
     "output_type": "stream",
     "text": [
      "[Stage 56:===>                                                    (1 + 15) / 16]\r"
     ]
    },
    {
     "name": "stdout",
     "output_type": "stream",
     "text": [
      "Columna 'label' tiene 29 valores únicos.\n"
     ]
    },
    {
     "name": "stderr",
     "output_type": "stream",
     "text": [
      "                                                                                \r"
     ]
    }
   ],
   "source": [
    "# Verificar valores únicos en cada columna\n",
    "for col in data_cleaned.columns:\n",
    "    unique_values = data_cleaned.select(col).distinct().count()\n",
    "    print(f\"Columna '{col}' tiene {unique_values} valores únicos.\")\n"
   ]
  },
  {
   "cell_type": "code",
   "execution_count": 8,
   "id": "4f9103ba-f303-4a58-8bac-ec153f84c047",
   "metadata": {},
   "outputs": [
    {
     "name": "stdout",
     "output_type": "stream",
     "text": [
      "Número total de datos en el DataFrame: 2916697\n"
     ]
    },
    {
     "name": "stderr",
     "output_type": "stream",
     "text": [
      "                                                                                \r"
     ]
    }
   ],
   "source": [
    "# Contar el número total de filas en el DataFrame\n",
    "total_datos = data_cleaned.count()\n",
    "\n",
    "# Mostrar el resultado\n",
    "print(\"Número total de datos en el DataFrame:\", total_datos)\n"
   ]
  },
  {
   "cell_type": "markdown",
   "id": "f66560b6-cba8-4eeb-9052-7a27b214fe6c",
   "metadata": {},
   "source": [
    " A PARTIR DE AQUI, PUEDO DESCARTAR CIERTAS COLUMNAS POR LA CANTIDAD DE VALORES UNICOS QUE SE PRESENTAN, PARA LA PARTE DE ADDRESS CASI TODOS TIENEN UN VALOR UNICO POR LO QUE NO NOS SIRVE EN EL MODELO. PARA LA PARTE DE INCOME TAMBIEN TIENE MUCHOS VALORES UNICOS, SIN EMBARGO NO LOS SUFICIENTES PARA DESCARTAR TODA LA COLUMNA. PROBARE EL MODELO UTILIZANDO ESA COLUMNA."
   ]
  },
  {
   "cell_type": "code",
   "execution_count": 9,
   "id": "f6aeb542-f1c7-43bb-b52d-f2f6949596b2",
   "metadata": {},
   "outputs": [],
   "source": [
    "#Aqui se elimina la columna address del dataframe\n",
    "data_drop = data_cleaned.drop('address')"
   ]
  },
  {
   "cell_type": "markdown",
   "id": "0efb6821-501d-43b4-803f-3699bcc52a6e",
   "metadata": {},
   "source": [
    "### Ahora, voy a convertir todas las variables string a numericas para el modelo, en el caso de los labels igual asignar un valor numerico unico para cada categoria ya que siendo strings no puedo entrenar un modelo"
   ]
  },
  {
   "cell_type": "code",
   "execution_count": 10,
   "id": "5e488a72-c724-4156-9f59-ff29d3108772",
   "metadata": {
    "scrolled": true
   },
   "outputs": [],
   "source": [
    "from pyspark.ml.feature import StringIndexer\n",
    "from pyspark.sql.functions import col\n",
    "\n",
    "# Lista de nombres de columnas numéricas (excluyendo la columna 'label')\n",
    "columnas_numericas = [col_name for col_name in data_drop.columns if col_name != 'label' and col_name!='weight']\n",
    "\n",
    "\n",
    "data_drop = data_drop.withColumn(\"weight\", (col(\"weight\") * 1.0).cast(\"float\"))\n",
    "\n",
    "# Convertir columnas numéricas de tipo string a tipo numerico\n",
    "for col_name in columnas_numericas:\n",
    "   data_drop = data_drop.withColumn(col_name, col(col_name).cast('double').cast('int'))\n",
    "\n"
   ]
  },
  {
   "cell_type": "code",
   "execution_count": 11,
   "id": "8cf8f4c3-bd84-47f0-a8da-847eb8cd786c",
   "metadata": {
    "scrolled": true
   },
   "outputs": [
    {
     "name": "stdout",
     "output_type": "stream",
     "text": [
      "+----+---+------+------------+-----+------+---------+---------+--------------------+\n",
      "|year|day|length|      weight|count|looped|neighbors|   income|               label|\n",
      "+----+---+------+------------+-----+------+---------+---------+--------------------+\n",
      "|2017| 11|    18| 0.008333334|    1|     0|        2|100050000|     princetonCerber|\n",
      "|2016|132|    44|2.4414062E-4|    1|     0|        1|100000000|      princetonLocky|\n",
      "|2016|246|     0|         1.0|    1|     0|        2|200000000|     princetonCerber|\n",
      "|2016|322|    72|  0.00390625|    1|     0|        2| 71200000|     princetonCerber|\n",
      "|2016|238|   144|  0.07284841|  456|     0|        1|200000000|      princetonLocky|\n",
      "|2016| 96|   144|    0.084614| 2821|     0|        1| 50000000|      princetonLocky|\n",
      "|2016|225|   142|0.0020885186|  881|     0|        2|100000000|     princetonCerber|\n",
      "|2016|324|    78|  0.00390625|    1|     0|        2|100990000|     princetonCerber|\n",
      "|2016|298|   144|   2.3028283| 4220|     0|        2| 80000000|     princetonCerber|\n",
      "|2016| 62|   112|3.7252903E-9|    1|     0|        1| 50000000|      princetonLocky|\n",
      "|2013|317|     4| 0.007142857|    2|     0|        1|100000000|montrealCryptoLocker|\n",
      "|2016|247|     0|         1.0|    1|     0|        2|108560000|     princetonCerber|\n",
      "|2016|146|   144|   0.8774848| 4817|     0|        1|104020000|    montrealCryptXXX|\n",
      "|2017|  3|     4|    0.015625|    1|     0|        2| 56000000|     princetonCerber|\n",
      "|2016|158|    56|3.0517578E-5|    1|     0|        1|120000000|    montrealCryptXXX|\n",
      "|2016|156|     8|        0.75|    2|     0|        4|240000000|    montrealCryptXXX|\n",
      "|2016|273|   144|0.0087467525| 1168|     0|        1|550000000|      princetonLocky|\n",
      "|2016| 56|     4|  0.14583333|    4|     0|        1|500000000|      princetonLocky|\n",
      "|2016|165|    10| 0.011904762|    1|     0|        2|200000000|     princetonCerber|\n",
      "|2016|109|     0|         0.5|    1|     0|        1|101000000|      princetonLocky|\n",
      "+----+---+------+------------+-----+------+---------+---------+--------------------+\n",
      "only showing top 20 rows\n",
      "\n"
     ]
    }
   ],
   "source": [
    "data_drop.show()"
   ]
  },
  {
   "cell_type": "code",
   "execution_count": 12,
   "id": "9c8f9ec7-f011-402d-9409-bbd71c093ebc",
   "metadata": {},
   "outputs": [],
   "source": [
    "#aqui lo que hago es llenar los na values con ceros\n",
    "data_drop = data_drop.na.fill(0.0, subset=[\"weight\"])"
   ]
  },
  {
   "cell_type": "markdown",
   "id": "b1701f24",
   "metadata": {},
   "source": [
    "###  Ahora que ya tengo el dataframe con los datos transformados, falta convertir los labels para tener el dataframe final"
   ]
  },
  {
   "cell_type": "code",
   "execution_count": 13,
   "id": "f3916b2e-f953-41d8-9d69-92af4db4d4ac",
   "metadata": {},
   "outputs": [
    {
     "name": "stderr",
     "output_type": "stream",
     "text": [
      "[Stage 66:>                                                       (0 + 16) / 16]\r"
     ]
    },
    {
     "name": "stdout",
     "output_type": "stream",
     "text": [
      "Etiquetas Originales: ['white', 'paduaCryptoWall', 'montrealCryptoLocker', 'princetonCerber', 'princetonLocky', 'montrealCryptXXX', 'montrealNoobCrypt', 'montrealDMALockerv3', 'montrealDMALocker', 'montrealSamSam', 'montrealCryptoTorLocker2015', 'montrealGlobeImposter', 'montrealGlobev3', 'montrealGlobe', 'montrealWannaCry', 'montrealRazy', 'montrealAPT', 'paduaKeRanger', 'montrealFlyper', 'montrealXTPLocker', 'montrealCryptConsole', 'montrealVenusLocker', 'montrealXLockerv5.0', 'montrealEDA2', 'montrealJigSaw', 'paduaJigsaw', 'montrealComradeCircle', 'montrealSam', 'montrealXLocker']\n"
     ]
    },
    {
     "name": "stderr",
     "output_type": "stream",
     "text": [
      "                                                                                \r"
     ]
    }
   ],
   "source": [
    "label_indexer = StringIndexer(inputCol='label', outputCol='label_index')\n",
    "\n",
    "# Ajustar el modelo y transformar los datos\n",
    "indexer_model = label_indexer.fit(data_drop)\n",
    "data_indexed = indexer_model.transform(data_drop)\n",
    "\n",
    "# Obtener la lista de etiquetas originales\n",
    "etiquetas_originales = indexer_model.labels\n",
    "\n",
    "# Mostrar la lista de etiquetas originales y sus índices asignados\n",
    "print(\"Etiquetas Originales:\", etiquetas_originales)\n"
   ]
  },
  {
   "cell_type": "code",
   "execution_count": 14,
   "id": "5c3f7fef-899f-44cd-8d5a-d88f92f48272",
   "metadata": {},
   "outputs": [
    {
     "name": "stdout",
     "output_type": "stream",
     "text": [
      "Categorías con sus respectivos índices asignados:\n",
      "{'white': 0, 'paduaCryptoWall': 1, 'montrealCryptoLocker': 2, 'princetonCerber': 3, 'princetonLocky': 4, 'montrealCryptXXX': 5, 'montrealNoobCrypt': 6, 'montrealDMALockerv3': 7, 'montrealDMALocker': 8, 'montrealSamSam': 9, 'montrealCryptoTorLocker2015': 10, 'montrealGlobeImposter': 11, 'montrealGlobev3': 12, 'montrealGlobe': 13, 'montrealWannaCry': 14, 'montrealRazy': 15, 'montrealAPT': 16, 'paduaKeRanger': 17, 'montrealFlyper': 18, 'montrealXTPLocker': 19, 'montrealCryptConsole': 20, 'montrealVenusLocker': 21, 'montrealXLockerv5.0': 22, 'montrealEDA2': 23, 'montrealJigSaw': 24, 'paduaJigsaw': 25, 'montrealComradeCircle': 26, 'montrealSam': 27, 'montrealXLocker': 28}\n"
     ]
    }
   ],
   "source": [
    "\n",
    "# Crear un diccionario que mapea etiquetas originales a sus índices asignados\n",
    "categorias_con_indices = dict(zip(etiquetas_originales, range(len(etiquetas_originales))))\n",
    "\n",
    "# Mostrar la lista de etiquetas originales y sus índices asignados\n",
    "#print(\"Etiquetas Originales:\", etiquetas_originales)\n",
    "print(\"Categorías con sus respectivos índices asignados:\")\n",
    "print(categorias_con_indices)"
   ]
  },
  {
   "cell_type": "markdown",
   "id": "3f1b2670-1f27-4954-883f-ba3a9f1d5869",
   "metadata": {},
   "source": [
    "#### Primero hacemos un show para ver los diferentes valores"
   ]
  },
  {
   "cell_type": "code",
   "execution_count": 16,
   "id": "4b756df7-209a-4538-a4f2-2d51fc247d5a",
   "metadata": {},
   "outputs": [
    {
     "name": "stdout",
     "output_type": "stream",
     "text": [
      "+----+---+------+------------+-----+------+---------+---------+-----------+\n",
      "|year|day|length|      weight|count|looped|neighbors|   income|label_index|\n",
      "+----+---+------+------------+-----+------+---------+---------+-----------+\n",
      "|2017| 11|    18| 0.008333334|    1|     0|        2|100050000|        3.0|\n",
      "|2016|132|    44|2.4414062E-4|    1|     0|        1|100000000|        4.0|\n",
      "|2016|246|     0|         1.0|    1|     0|        2|200000000|        3.0|\n",
      "|2016|322|    72|  0.00390625|    1|     0|        2| 71200000|        3.0|\n",
      "|2016|238|   144|  0.07284841|  456|     0|        1|200000000|        4.0|\n",
      "|2016| 96|   144|    0.084614| 2821|     0|        1| 50000000|        4.0|\n",
      "|2016|225|   142|0.0020885186|  881|     0|        2|100000000|        3.0|\n",
      "|2016|324|    78|  0.00390625|    1|     0|        2|100990000|        3.0|\n",
      "|2016|298|   144|   2.3028283| 4220|     0|        2| 80000000|        3.0|\n",
      "|2016| 62|   112|3.7252903E-9|    1|     0|        1| 50000000|        4.0|\n",
      "|2013|317|     4| 0.007142857|    2|     0|        1|100000000|        2.0|\n",
      "|2016|247|     0|         1.0|    1|     0|        2|108560000|        3.0|\n",
      "|2016|146|   144|   0.8774848| 4817|     0|        1|104020000|        5.0|\n",
      "|2017|  3|     4|    0.015625|    1|     0|        2| 56000000|        3.0|\n",
      "|2016|158|    56|3.0517578E-5|    1|     0|        1|120000000|        5.0|\n",
      "|2016|156|     8|        0.75|    2|     0|        4|240000000|        5.0|\n",
      "|2016|273|   144|0.0087467525| 1168|     0|        1|550000000|        4.0|\n",
      "|2016| 56|     4|  0.14583333|    4|     0|        1|500000000|        4.0|\n",
      "|2016|165|    10| 0.011904762|    1|     0|        2|200000000|        3.0|\n",
      "|2016|109|     0|         0.5|    1|     0|        1|101000000|        4.0|\n",
      "|2016| 79|     2|        0.25|    1|     0|        1| 50000000|        4.0|\n",
      "|2016|127|   144|   1.1924725| 3352|     0|        2|200000000|        3.0|\n",
      "|2017| 21|     0|         0.5|    1|     0|        2| 99950000|        3.0|\n",
      "|2016|250|     0|         0.5|    1|     0|        1|200000000|        4.0|\n",
      "|2016|155|     6|         0.5|    6|     0|        2|120000000|        5.0|\n",
      "|2014| 65|   144|  0.24336043| 1944|     0|        1|128898352|        1.0|\n",
      "|2014| 81|    14| 0.010416667|    1|     0|        2| 34555818|        1.0|\n",
      "|2017| 46|     8|0.0069444445|    1|     1|        2| 80000000|        3.0|\n",
      "|2013|330|     4|        0.25|    1|     0|        1| 50000000|        2.0|\n",
      "|2016|256|   144|  0.29180014| 1380|     0|        2| 85140000|        3.0|\n",
      "|2016|218|     0|       0.125|    1|     0|        2|104380000|        3.0|\n",
      "|2016| 52|   144| 0.099877596| 8120|     0|        1| 50057953|        4.0|\n",
      "|2016|289|    14|      0.0625|    1|     0|        2| 78480000|        3.0|\n",
      "|2016|266|   144|   1.6071465| 5605|  3283|        2|168320000|        3.0|\n",
      "|2016|348|    12|        0.05|    1|     0|        2| 81700000|        3.0|\n",
      "|2016| 89|   144|   0.1328533|  871|     0|        1|400000000|        4.0|\n",
      "|2016| 85|   144| 0.003633293| 2515|     0|        1|300000000|        4.0|\n",
      "|2016| 68|     6|        0.25|    1|     0|        1| 50000000|        4.0|\n",
      "|2013|316|     6|        1.25|    3|     0|        1|199990000|        2.0|\n",
      "|2016| 49|    20|      0.0625|    3|     0|        1| 99990000|        4.0|\n",
      "|2016| 51|    42|4.8828125E-4|    1|     0|        1| 50000000|        4.0|\n",
      "|2014| 81|     0|         0.5|    1|     0|        2|300000000|        1.0|\n",
      "|2016|336|    12|        0.25|    1|     0|        2|100000000|        3.0|\n",
      "|2016|137|     0|         1.0|    1|     0|        2|119990000|        5.0|\n",
      "|2017| 47|   144| 0.013469523| 3645|     0|        2| 60050000|        3.0|\n",
      "|2016| 88|   144|  0.34773782| 2614|     0|        1|300000000|        4.0|\n",
      "|2016|106|     4|         2.0|    2|     0|        2|125000000|        3.0|\n",
      "|2017|198|   144|  0.10312532| 4910|     0|        2| 40000000|        3.0|\n",
      "|2016|321|     0|  0.33333334|    1|     0|        2|100000000|        3.0|\n",
      "|2017| 35|    24|2.4414062E-4|    1|     0|        2| 80000000|        3.0|\n",
      "|2016|178|    24| 2.170139E-5|    1|     0|        2| 31820000|        3.0|\n",
      "|2016|279|    50|1.2207031E-4|    1|     0|        2|100000000|        3.0|\n",
      "|2016|125|     0|         0.5|    1|     0|        1|410000000|        4.0|\n",
      "|2014|127|     0|         1.0|    1|     0|        1| 68618992|        1.0|\n",
      "|2014| 80|     0|         1.0|    1|     0|        2|112137426|        1.0|\n",
      "|2016|120|   144|  1.66228E-9|  510|     0|        1|510000000|        4.0|\n",
      "|2016|156|     0|         0.5|    1|     0|        2|100000000|        3.0|\n",
      "|2016| 84|     2|         0.5|    1|     0|        2|410000000|        4.0|\n",
      "|2016|126|     4|0.0054347827|    1|     0|        1|300000000|        4.0|\n",
      "|2016|103|     0|         0.5|    1|     0|        2|125000000|        3.0|\n",
      "|2016| 75|     2| 0.017857144|    4|     0|        1| 50000000|        4.0|\n",
      "|2016|111|     6| 0.083333336|    1|     0|        1|150000000|        4.0|\n",
      "|2017|  2|    26|  0.00390625|    1|     0|        2| 56000000|        3.0|\n",
      "|2016|182|     2|         0.5|    1|     0|        1|122000000|        5.0|\n",
      "|2016|168|   144|  0.40767646| 3060|     0|        2|120000000|        5.0|\n",
      "|2016|163|     4|  0.33333334|    1|     0|        2|120000000|        5.0|\n",
      "|2016|160|   144|  0.14844887| 4309|     0|        2|119989395|        5.0|\n",
      "|2016|161|     0|         0.2|    1|     0|        2|120000000|        5.0|\n",
      "|2017|162|     0|         0.5|    1|     0|        2| 40000000|        3.0|\n",
      "|2017|141|     0|         1.0|    1|     0|        1| 30627600|       14.0|\n",
      "|2017|139|   144|    1.031474| 8973|     0|        2| 64478999|       14.0|\n",
      "|2017|135|   144|0.0030656126| 7463|     0|        1| 35149432|       14.0|\n",
      "|2017|133|     6|  0.09791667|    3|     0|        1| 34490605|       14.0|\n",
      "|2017|137|   144|   1.5000201| 9866|     0|        2| 70477658|       14.0|\n",
      "|2017|138|   144| 0.015581279| 3079|     0|        1| 33000000|       14.0|\n",
      "|2017|136|     2|         1.0|    1|     0|        1| 33534612|       14.0|\n",
      "|2014| 80|     0|         1.0|    1|     0|        2|125290000|        1.0|\n",
      "|2016|109|     0|         0.5|    1|     0|        2| 30190000|        3.0|\n",
      "|2016|108|     8|         0.5|    1|     0|        2| 89990000|        3.0|\n",
      "|2016| 53|   144|   0.2872641| 7493|     0|        1|100000000|        4.0|\n",
      "|2016|120|   144|  0.10024545| 1723|     0|        1|150000000|        4.0|\n",
      "|2016|223|    82|7.4505806E-9|    1|     0|        1|250000000|        4.0|\n",
      "|2017| 74|    18|       0.125|    1|     0|        2|100000000|        3.0|\n",
      "|2016|116|   144|2.0192289E-5|  434|     0|        2|125000000|        3.0|\n",
      "|2017| 32|     2|         0.5|    1|     0|        2| 63250000|        3.0|\n",
      "|2014| 80|     4|   0.5769231|    2|     0|        2|164012438|        1.0|\n",
      "|2017| 55|   144|  0.10006172| 6277|     0|        2|100000000|        3.0|\n",
      "|2016|158|     0|         1.0|    1|     0|        2|120000000|        5.0|\n",
      "|2016|135|     8|     0.03125|    1|     0|        2|120000000|        5.0|\n",
      "|2016|120|   144|  0.34663352| 3710|     0|        2|145410000|        3.0|\n",
      "|2016| 96|     0|         1.0|    1|     0|        1|300000000|        4.0|\n",
      "|2013|339|   130|  0.15796398| 4557|     0|        1| 49990000|        2.0|\n",
      "|2016|141|    80|7.6293945E-6|    1|     0|        2|100000000|        3.0|\n",
      "|2016|273|     2| 0.071428575|    1|     0|        2|399990000|        4.0|\n",
      "|2016| 57|    42|  0.02623954|    7|     0|        1| 50000000|        4.0|\n",
      "|2016|319|    74|1.9073486E-6|    1|     0|        2|100000000|        3.0|\n",
      "|2016| 52|     0|         1.0|    1|     0|        1| 50000000|        4.0|\n",
      "|2013|338|     4|         0.5|    1|     0|        1| 30000000|        2.0|\n",
      "|2017| 55|    12| 4.822531E-5|    1|     1|        2| 80000000|        3.0|\n",
      "|2016|269|     0|         1.0|    1|     0|        1|400000000|        4.0|\n",
      "+----+---+------+------------+-----+------+---------+---------+-----------+\n",
      "only showing top 100 rows\n",
      "\n"
     ]
    }
   ],
   "source": [
    "data_indexed = data_indexed.drop('label')\n",
    "data_indexed.show(100)\n",
    "\n",
    "# Reducir el número de particiones a un valor adecuado\n",
    "data_indexed = data_indexed.coalesce(4)  # Ajusta el número de particiones según sea necesario\n"
   ]
  },
  {
   "cell_type": "markdown",
   "id": "6045f028",
   "metadata": {},
   "source": [
    "### Ahora que tenemos el dataframe completo, vamos a transformarlo para que el modelo pueda recibir los features en un vector y los labels en otro"
   ]
  },
  {
   "cell_type": "code",
   "execution_count": 23,
   "id": "ac1afa18-7190-415b-9d22-966efd6b74e6",
   "metadata": {},
   "outputs": [
    {
     "name": "stdout",
     "output_type": "stream",
     "text": [
      "+--------------------+-----------+\n",
      "|            features|label_index|\n",
      "+--------------------+-----------+\n",
      "|[2017.0,11.0,18.0...|        3.0|\n",
      "|[2016.0,132.0,44....|        4.0|\n",
      "|[2016.0,246.0,0.0...|        3.0|\n",
      "|[2016.0,322.0,72....|        3.0|\n",
      "|[2016.0,238.0,144...|        4.0|\n",
      "|[2016.0,96.0,144....|        4.0|\n",
      "|[2016.0,225.0,142...|        3.0|\n",
      "|[2016.0,324.0,78....|        3.0|\n",
      "|[2016.0,298.0,144...|        3.0|\n",
      "|[2016.0,62.0,112....|        4.0|\n",
      "|[2013.0,317.0,4.0...|        2.0|\n",
      "|[2016.0,247.0,0.0...|        3.0|\n",
      "|[2016.0,146.0,144...|        5.0|\n",
      "|[2017.0,3.0,4.0,0...|        3.0|\n",
      "|[2016.0,158.0,56....|        5.0|\n",
      "|[2016.0,156.0,8.0...|        5.0|\n",
      "|[2016.0,273.0,144...|        4.0|\n",
      "|[2016.0,56.0,4.0,...|        4.0|\n",
      "|[2016.0,165.0,10....|        3.0|\n",
      "|[2016.0,109.0,0.0...|        4.0|\n",
      "+--------------------+-----------+\n",
      "only showing top 20 rows\n",
      "\n"
     ]
    }
   ],
   "source": [
    "from pyspark.ml.feature import VectorAssembler\n",
    "\n",
    "# Definir las características de entrada\n",
    "features = ['year', 'day', 'length', 'weight', 'count', 'looped', 'neighbors', 'income']\n",
    "\n",
    "assembler = VectorAssembler(inputCols=features, outputCol=\"features\")\n",
    "assembled_df = assembler.transform(data_indexed)\n",
    "\n",
    "# Selecciona las columnas \"features\" y \"label\" para el modelo\n",
    "selected_df = assembled_df.select(\"features\", \"label_index\")\n",
    "\n",
    "selected_df.show()"
   ]
  },
  {
   "cell_type": "code",
   "execution_count": 24,
   "id": "b4c6b5ac-2ef8-4584-a0cc-0a114b0085ab",
   "metadata": {},
   "outputs": [],
   "source": [
    "#Asignamos los datasets basados en el dataframe selected_df\n",
    "\n",
    "train_data, test_data = selected_df.randomSplit([0.8, 0.2], seed=123)"
   ]
  },
  {
   "cell_type": "markdown",
   "id": "9068a4fd",
   "metadata": {},
   "source": [
    "### AHORA PROBE DOS MODELOS DISTINTOS Y VALIDE LAS PRUEBAS CON LAS PREDICCIONES DEL TEST_DATA"
   ]
  },
  {
   "cell_type": "code",
   "execution_count": 28,
   "id": "443f00af-d5c6-46ae-b6e1-8950dbbeb058",
   "metadata": {
    "scrolled": true
   },
   "outputs": [
    {
     "name": "stderr",
     "output_type": "stream",
     "text": [
      "23/10/30 17:23:29 WARN MemoryStore: Not enough space to cache rdd_452_1 in memory! (computed 73.4 MiB so far)\n",
      "23/10/30 17:23:29 WARN BlockManager: Persisting block rdd_452_1 to disk instead.\n",
      "23/10/30 17:23:29 WARN MemoryStore: Not enough space to cache rdd_452_0 in memory! (computed 73.4 MiB so far)\n",
      "23/10/30 17:23:29 WARN BlockManager: Persisting block rdd_452_0 to disk instead.\n",
      "23/10/30 17:23:30 WARN MemoryStore: Not enough space to cache rdd_452_3 in memory! (computed 165.7 MiB so far)\n",
      "23/10/30 17:23:30 WARN BlockManager: Persisting block rdd_452_3 to disk instead.\n",
      "23/10/30 17:23:30 WARN MemoryStore: Not enough space to cache rdd_452_2 in memory! (computed 165.7 MiB so far)\n",
      "23/10/30 17:23:30 WARN BlockManager: Persisting block rdd_452_2 to disk instead.\n",
      "23/10/30 17:23:36 WARN MemoryStore: Not enough space to cache rdd_452_3 in memory! (computed 257.2 MiB so far)\n",
      "23/10/30 17:23:36 WARN MemoryStore: Not enough space to cache rdd_452_2 in memory! (computed 110.2 MiB so far)\n",
      "23/10/30 17:23:36 WARN MemoryStore: Not enough space to cache rdd_452_1 in memory! (computed 49.0 MiB so far)\n",
      "23/10/30 17:23:36 WARN MemoryStore: Not enough space to cache rdd_452_0 in memory! (computed 20.7 MiB so far)\n",
      "23/10/30 17:23:48 WARN MemoryStore: Not enough space to cache rdd_452_0 in memory! (computed 73.4 MiB so far)\n",
      "23/10/30 17:23:48 WARN MemoryStore: Not enough space to cache rdd_452_1 in memory! (computed 110.2 MiB so far)\n",
      "23/10/30 17:23:48 WARN MemoryStore: Not enough space to cache rdd_452_2 in memory! (computed 110.2 MiB so far)\n",
      "23/10/30 17:23:48 WARN MemoryStore: Not enough space to cache rdd_452_3 in memory! (computed 110.2 MiB so far)\n",
      "23/10/30 17:24:02 WARN MemoryStore: Not enough space to cache rdd_452_2 in memory! (computed 73.4 MiB so far)\n",
      "23/10/30 17:24:02 WARN MemoryStore: Not enough space to cache rdd_452_3 in memory! (computed 110.2 MiB so far)\n",
      "23/10/30 17:24:02 WARN MemoryStore: Not enough space to cache rdd_452_1 in memory! (computed 110.2 MiB so far)\n",
      "23/10/30 17:24:02 WARN MemoryStore: Not enough space to cache rdd_452_0 in memory! (computed 110.2 MiB so far)\n",
      "23/10/30 17:24:21 WARN DAGScheduler: Broadcasting large task binary with size 1407.3 KiB\n",
      "23/10/30 17:24:21 WARN MemoryStore: Not enough space to cache rdd_452_3 in memory! (computed 73.4 MiB so far)\n",
      "23/10/30 17:24:21 WARN MemoryStore: Not enough space to cache rdd_452_1 in memory! (computed 110.2 MiB so far)\n",
      "23/10/30 17:24:21 WARN MemoryStore: Not enough space to cache rdd_452_0 in memory! (computed 110.2 MiB so far)\n",
      "23/10/30 17:24:21 WARN MemoryStore: Not enough space to cache rdd_452_2 in memory! (computed 110.2 MiB so far)\n",
      "23/10/30 17:24:44 WARN DAGScheduler: Broadcasting large task binary with size 2.8 MiB\n",
      "23/10/30 17:24:44 WARN MemoryStore: Not enough space to cache rdd_452_0 in memory! (computed 73.4 MiB so far)\n",
      "23/10/30 17:24:44 WARN MemoryStore: Not enough space to cache rdd_452_1 in memory! (computed 110.2 MiB so far)\n",
      "23/10/30 17:24:44 WARN MemoryStore: Not enough space to cache rdd_452_3 in memory! (computed 110.2 MiB so far)\n",
      "23/10/30 17:24:44 WARN MemoryStore: Not enough space to cache rdd_452_2 in memory! (computed 110.2 MiB so far)\n",
      "[Stage 211:==========================================>              (3 + 1) / 4]\r"
     ]
    },
    {
     "name": "stdout",
     "output_type": "stream",
     "text": [
      "Accuracy en el conjunto de prueba:  0.9857002968476627\n"
     ]
    },
    {
     "name": "stderr",
     "output_type": "stream",
     "text": [
      "                                                                                \r"
     ]
    }
   ],
   "source": [
    "from pyspark.ml.classification import RandomForestClassifier\n",
    "from pyspark.ml.evaluation import MulticlassClassificationEvaluator\n",
    "\n",
    "\n",
    "# Crea el modelo Random Forest\n",
    "rf = RandomForestClassifier(featuresCol=\"features\", labelCol=\"label_index\", numTrees=200)\n",
    "\n",
    "# Entrena el modelo\n",
    "rf_model = rf.fit(train_data)\n",
    "\n",
    "# Suponiendo que tu modelo se llama \"modelo\" y que tienes un DataFrame llamado \"data_test\" para evaluación\n",
    "predictions = rf_model.transform(test_data)\n",
    "\n",
    "# Crear un evaluador para problemas de clasificación multiclase\n",
    "evaluator = MulticlassClassificationEvaluator(labelCol=\"label_index\", metricName=\"accuracy\")\n",
    "# Calcular la métrica de evaluación (precisión en este caso)\n",
    "accuracy = evaluator.evaluate(predictions)\n",
    "print(\"Accuracy en el conjunto de prueba: \", accuracy)\n",
    "\n"
   ]
  },
  {
   "cell_type": "markdown",
   "id": "25d629fd",
   "metadata": {},
   "source": [
    "## Segundo modelo el cual es una red neuronal"
   ]
  },
  {
   "cell_type": "code",
   "execution_count": 18,
   "id": "840fbde8-9684-4cd6-bd66-a4d6e40e4538",
   "metadata": {},
   "outputs": [
    {
     "name": "stderr",
     "output_type": "stream",
     "text": [
      "23/10/30 16:09:30 WARN MemoryStore: Not enough space to cache rdd_163_2 in memory! (computed 15.2 MiB so far)\n",
      "23/10/30 16:09:30 WARN BlockManager: Persisting block rdd_163_2 to disk instead.\n",
      "23/10/30 16:09:30 WARN MemoryStore: Not enough space to cache rdd_163_3 in memory! (computed 15.2 MiB so far)\n",
      "23/10/30 16:09:30 WARN BlockManager: Persisting block rdd_163_3 to disk instead.\n",
      "23/10/30 16:09:30 WARN MemoryStore: Not enough space to cache rdd_163_0 in memory! (computed 15.2 MiB so far)\n",
      "23/10/30 16:09:30 WARN BlockManager: Persisting block rdd_163_0 to disk instead.\n",
      "23/10/30 16:09:30 WARN MemoryStore: Not enough space to cache rdd_163_1 in memory! (computed 52.0 MiB so far)\n",
      "23/10/30 16:09:30 WARN BlockManager: Persisting block rdd_163_1 to disk instead.\n",
      "23/10/30 16:09:31 WARN MemoryStore: Not enough space to cache rdd_163_0 in memory! (computed 79.7 MiB so far)\n",
      "23/10/30 16:09:32 WARN MemoryStore: Not enough space to cache rdd_163_2 in memory! (computed 122.5 MiB so far)\n",
      "23/10/30 16:09:32 WARN MemoryStore: Not enough space to cache rdd_163_0 in memory! (computed 52.0 MiB so far)\n",
      "23/10/30 16:09:32 WARN MemoryStore: Not enough space to cache rdd_163_2 in memory! (computed 52.0 MiB so far)\n",
      "23/10/30 16:09:36 WARN MemoryStore: Not enough space to cache rdd_163_0 in memory! (computed 52.0 MiB so far)\n",
      "23/10/30 16:09:36 WARN MemoryStore: Not enough space to cache rdd_163_2 in memory! (computed 52.0 MiB so far)\n",
      "23/10/30 16:09:40 WARN MemoryStore: Not enough space to cache rdd_163_2 in memory! (computed 52.0 MiB so far)\n",
      "23/10/30 16:09:40 WARN MemoryStore: Not enough space to cache rdd_163_0 in memory! (computed 52.0 MiB so far)\n",
      "23/10/30 16:09:43 WARN MemoryStore: Not enough space to cache rdd_163_0 in memory! (computed 52.0 MiB so far)\n",
      "23/10/30 16:09:43 WARN MemoryStore: Not enough space to cache rdd_163_2 in memory! (computed 52.0 MiB so far)\n",
      "23/10/30 16:09:47 WARN MemoryStore: Not enough space to cache rdd_163_0 in memory! (computed 52.0 MiB so far)\n",
      "23/10/30 16:09:47 WARN MemoryStore: Not enough space to cache rdd_163_2 in memory! (computed 52.0 MiB so far)\n",
      "23/10/30 16:09:51 WARN MemoryStore: Not enough space to cache rdd_163_0 in memory! (computed 52.0 MiB so far)\n",
      "23/10/30 16:09:51 WARN MemoryStore: Not enough space to cache rdd_163_2 in memory! (computed 52.0 MiB so far)\n",
      "23/10/30 16:09:55 WARN MemoryStore: Not enough space to cache rdd_163_0 in memory! (computed 52.0 MiB so far)\n",
      "23/10/30 16:09:55 WARN MemoryStore: Not enough space to cache rdd_163_2 in memory! (computed 52.0 MiB so far)\n",
      "23/10/30 16:09:59 WARN MemoryStore: Not enough space to cache rdd_163_0 in memory! (computed 52.0 MiB so far)\n",
      "23/10/30 16:09:59 WARN MemoryStore: Not enough space to cache rdd_163_2 in memory! (computed 52.0 MiB so far)\n",
      "23/10/30 16:10:03 WARN MemoryStore: Not enough space to cache rdd_163_0 in memory! (computed 52.0 MiB so far)\n",
      "23/10/30 16:10:03 WARN MemoryStore: Not enough space to cache rdd_163_2 in memory! (computed 52.0 MiB so far)\n",
      "23/10/30 16:10:06 WARN MemoryStore: Not enough space to cache rdd_163_0 in memory! (computed 52.0 MiB so far)\n",
      "23/10/30 16:10:06 WARN MemoryStore: Not enough space to cache rdd_163_2 in memory! (computed 52.0 MiB so far)\n",
      "23/10/30 16:10:10 WARN MemoryStore: Not enough space to cache rdd_163_0 in memory! (computed 52.0 MiB so far)\n",
      "23/10/30 16:10:10 WARN MemoryStore: Not enough space to cache rdd_163_2 in memory! (computed 52.0 MiB so far)\n",
      "23/10/30 16:10:14 WARN MemoryStore: Not enough space to cache rdd_163_0 in memory! (computed 52.0 MiB so far)\n",
      "23/10/30 16:10:14 WARN MemoryStore: Not enough space to cache rdd_163_2 in memory! (computed 52.0 MiB so far)\n",
      "23/10/30 16:10:18 WARN MemoryStore: Not enough space to cache rdd_163_0 in memory! (computed 52.0 MiB so far)\n",
      "23/10/30 16:10:18 WARN MemoryStore: Not enough space to cache rdd_163_2 in memory! (computed 52.0 MiB so far)\n",
      "23/10/30 16:10:22 WARN MemoryStore: Not enough space to cache rdd_163_0 in memory! (computed 52.0 MiB so far)\n",
      "23/10/30 16:10:22 WARN MemoryStore: Not enough space to cache rdd_163_2 in memory! (computed 52.0 MiB so far)\n",
      "23/10/30 16:10:26 WARN MemoryStore: Not enough space to cache rdd_163_0 in memory! (computed 52.0 MiB so far)\n",
      "23/10/30 16:10:26 WARN MemoryStore: Not enough space to cache rdd_163_2 in memory! (computed 52.0 MiB so far)\n",
      "23/10/30 16:10:29 WARN MemoryStore: Not enough space to cache rdd_163_0 in memory! (computed 52.0 MiB so far)\n",
      "23/10/30 16:10:29 WARN MemoryStore: Not enough space to cache rdd_163_2 in memory! (computed 52.0 MiB so far)\n",
      "23/10/30 16:10:33 WARN MemoryStore: Not enough space to cache rdd_163_0 in memory! (computed 52.0 MiB so far)\n",
      "23/10/30 16:10:33 WARN MemoryStore: Not enough space to cache rdd_163_2 in memory! (computed 52.0 MiB so far)\n",
      "23/10/30 16:10:37 WARN MemoryStore: Not enough space to cache rdd_163_0 in memory! (computed 52.0 MiB so far)\n",
      "23/10/30 16:10:37 WARN MemoryStore: Not enough space to cache rdd_163_2 in memory! (computed 52.0 MiB so far)\n",
      "23/10/30 16:10:41 WARN MemoryStore: Not enough space to cache rdd_163_0 in memory! (computed 52.0 MiB so far)\n",
      "23/10/30 16:10:41 WARN MemoryStore: Not enough space to cache rdd_163_2 in memory! (computed 52.0 MiB so far)\n",
      "23/10/30 16:10:45 WARN MemoryStore: Not enough space to cache rdd_163_0 in memory! (computed 52.0 MiB so far)\n",
      "23/10/30 16:10:45 WARN MemoryStore: Not enough space to cache rdd_163_2 in memory! (computed 52.0 MiB so far)\n",
      "23/10/30 16:10:48 WARN MemoryStore: Not enough space to cache rdd_163_2 in memory! (computed 52.0 MiB so far)\n",
      "23/10/30 16:10:48 WARN MemoryStore: Not enough space to cache rdd_163_0 in memory! (computed 52.0 MiB so far)\n",
      "23/10/30 16:10:52 WARN MemoryStore: Not enough space to cache rdd_163_0 in memory! (computed 52.0 MiB so far)\n",
      "23/10/30 16:10:52 WARN MemoryStore: Not enough space to cache rdd_163_2 in memory! (computed 52.0 MiB so far)\n",
      "23/10/30 16:10:56 WARN MemoryStore: Not enough space to cache rdd_163_0 in memory! (computed 52.0 MiB so far)\n",
      "23/10/30 16:10:56 WARN MemoryStore: Not enough space to cache rdd_163_2 in memory! (computed 52.0 MiB so far)\n",
      "23/10/30 16:11:00 WARN MemoryStore: Not enough space to cache rdd_163_0 in memory! (computed 52.0 MiB so far)\n",
      "23/10/30 16:11:00 WARN MemoryStore: Not enough space to cache rdd_163_2 in memory! (computed 52.0 MiB so far)\n",
      "23/10/30 16:11:04 WARN MemoryStore: Not enough space to cache rdd_163_0 in memory! (computed 52.0 MiB so far)\n",
      "23/10/30 16:11:04 WARN MemoryStore: Not enough space to cache rdd_163_2 in memory! (computed 52.0 MiB so far)\n",
      "23/10/30 16:11:08 WARN MemoryStore: Not enough space to cache rdd_163_0 in memory! (computed 52.0 MiB so far)\n",
      "23/10/30 16:11:08 WARN MemoryStore: Not enough space to cache rdd_163_2 in memory! (computed 52.0 MiB so far)\n",
      "23/10/30 16:11:12 WARN MemoryStore: Not enough space to cache rdd_163_0 in memory! (computed 52.0 MiB so far)\n",
      "23/10/30 16:11:12 WARN MemoryStore: Not enough space to cache rdd_163_2 in memory! (computed 52.0 MiB so far)\n",
      "23/10/30 16:11:16 WARN MemoryStore: Not enough space to cache rdd_163_0 in memory! (computed 52.0 MiB so far)\n",
      "23/10/30 16:11:16 WARN MemoryStore: Not enough space to cache rdd_163_2 in memory! (computed 52.0 MiB so far)\n",
      "23/10/30 16:11:19 WARN MemoryStore: Not enough space to cache rdd_163_0 in memory! (computed 52.0 MiB so far)\n",
      "23/10/30 16:11:19 WARN MemoryStore: Not enough space to cache rdd_163_2 in memory! (computed 52.0 MiB so far)\n",
      "23/10/30 16:11:23 WARN MemoryStore: Not enough space to cache rdd_163_0 in memory! (computed 52.0 MiB so far)\n",
      "23/10/30 16:11:23 WARN MemoryStore: Not enough space to cache rdd_163_2 in memory! (computed 52.0 MiB so far)\n",
      "23/10/30 16:11:27 WARN MemoryStore: Not enough space to cache rdd_163_2 in memory! (computed 52.0 MiB so far)\n",
      "23/10/30 16:11:27 WARN MemoryStore: Not enough space to cache rdd_163_0 in memory! (computed 52.0 MiB so far)\n",
      "23/10/30 16:11:31 WARN MemoryStore: Not enough space to cache rdd_163_0 in memory! (computed 52.0 MiB so far)\n",
      "23/10/30 16:11:31 WARN MemoryStore: Not enough space to cache rdd_163_2 in memory! (computed 52.0 MiB so far)\n",
      "23/10/30 16:11:35 WARN MemoryStore: Not enough space to cache rdd_163_0 in memory! (computed 52.0 MiB so far)\n",
      "23/10/30 16:11:35 WARN MemoryStore: Not enough space to cache rdd_163_2 in memory! (computed 52.0 MiB so far)\n",
      "23/10/30 16:11:39 WARN MemoryStore: Not enough space to cache rdd_163_0 in memory! (computed 52.0 MiB so far)\n",
      "23/10/30 16:11:39 WARN MemoryStore: Not enough space to cache rdd_163_2 in memory! (computed 52.0 MiB so far)\n",
      "23/10/30 16:11:43 WARN MemoryStore: Not enough space to cache rdd_163_2 in memory! (computed 52.0 MiB so far)\n",
      "23/10/30 16:11:43 WARN MemoryStore: Not enough space to cache rdd_163_0 in memory! (computed 52.0 MiB so far)\n",
      "23/10/30 16:11:47 WARN MemoryStore: Not enough space to cache rdd_163_0 in memory! (computed 52.0 MiB so far)\n",
      "23/10/30 16:11:47 WARN MemoryStore: Not enough space to cache rdd_163_2 in memory! (computed 52.0 MiB so far)\n",
      "23/10/30 16:11:50 WARN MemoryStore: Not enough space to cache rdd_163_0 in memory! (computed 52.0 MiB so far)\n",
      "23/10/30 16:11:50 WARN MemoryStore: Not enough space to cache rdd_163_2 in memory! (computed 52.0 MiB so far)\n",
      "23/10/30 16:11:54 WARN MemoryStore: Not enough space to cache rdd_163_0 in memory! (computed 52.0 MiB so far)\n",
      "23/10/30 16:11:54 WARN MemoryStore: Not enough space to cache rdd_163_2 in memory! (computed 52.0 MiB so far)\n",
      "23/10/30 16:11:58 WARN MemoryStore: Not enough space to cache rdd_163_0 in memory! (computed 52.0 MiB so far)\n",
      "23/10/30 16:11:58 WARN MemoryStore: Not enough space to cache rdd_163_2 in memory! (computed 52.0 MiB so far)\n",
      "23/10/30 16:12:02 WARN MemoryStore: Not enough space to cache rdd_163_0 in memory! (computed 52.0 MiB so far)\n",
      "23/10/30 16:12:02 WARN MemoryStore: Not enough space to cache rdd_163_2 in memory! (computed 52.0 MiB so far)\n",
      "23/10/30 16:12:06 WARN MemoryStore: Not enough space to cache rdd_163_0 in memory! (computed 52.0 MiB so far)\n",
      "23/10/30 16:12:06 WARN MemoryStore: Not enough space to cache rdd_163_2 in memory! (computed 52.0 MiB so far)\n",
      "23/10/30 16:12:10 WARN MemoryStore: Not enough space to cache rdd_163_0 in memory! (computed 52.0 MiB so far)\n",
      "23/10/30 16:12:10 WARN MemoryStore: Not enough space to cache rdd_163_2 in memory! (computed 52.0 MiB so far)\n",
      "23/10/30 16:12:14 WARN MemoryStore: Not enough space to cache rdd_163_0 in memory! (computed 52.0 MiB so far)\n",
      "23/10/30 16:12:14 WARN MemoryStore: Not enough space to cache rdd_163_2 in memory! (computed 52.0 MiB so far)\n",
      "23/10/30 16:12:18 WARN MemoryStore: Not enough space to cache rdd_163_0 in memory! (computed 52.0 MiB so far)\n",
      "23/10/30 16:12:18 WARN MemoryStore: Not enough space to cache rdd_163_2 in memory! (computed 52.0 MiB so far)\n",
      "23/10/30 16:12:22 WARN MemoryStore: Not enough space to cache rdd_163_0 in memory! (computed 52.0 MiB so far)\n",
      "23/10/30 16:12:22 WARN MemoryStore: Not enough space to cache rdd_163_2 in memory! (computed 52.0 MiB so far)\n",
      "23/10/30 16:12:26 WARN MemoryStore: Not enough space to cache rdd_163_0 in memory! (computed 52.0 MiB so far)\n",
      "23/10/30 16:12:26 WARN MemoryStore: Not enough space to cache rdd_163_2 in memory! (computed 52.0 MiB so far)\n",
      "23/10/30 16:12:30 WARN MemoryStore: Not enough space to cache rdd_163_0 in memory! (computed 52.0 MiB so far)\n",
      "23/10/30 16:12:30 WARN MemoryStore: Not enough space to cache rdd_163_2 in memory! (computed 52.0 MiB so far)\n",
      "23/10/30 16:12:34 WARN MemoryStore: Not enough space to cache rdd_163_0 in memory! (computed 52.0 MiB so far)\n",
      "23/10/30 16:12:34 WARN MemoryStore: Not enough space to cache rdd_163_2 in memory! (computed 52.0 MiB so far)\n",
      "23/10/30 16:12:38 WARN MemoryStore: Not enough space to cache rdd_163_2 in memory! (computed 52.0 MiB so far)\n",
      "23/10/30 16:12:38 WARN MemoryStore: Not enough space to cache rdd_163_0 in memory! (computed 52.0 MiB so far)\n",
      "23/10/30 16:12:42 WARN MemoryStore: Not enough space to cache rdd_163_0 in memory! (computed 52.0 MiB so far)\n",
      "23/10/30 16:12:42 WARN MemoryStore: Not enough space to cache rdd_163_2 in memory! (computed 52.0 MiB so far)\n",
      "23/10/30 16:12:45 WARN MemoryStore: Not enough space to cache rdd_163_0 in memory! (computed 52.0 MiB so far)\n",
      "23/10/30 16:12:45 WARN MemoryStore: Not enough space to cache rdd_163_2 in memory! (computed 52.0 MiB so far)\n",
      "23/10/30 16:12:49 WARN MemoryStore: Not enough space to cache rdd_163_0 in memory! (computed 52.0 MiB so far)\n",
      "23/10/30 16:12:49 WARN MemoryStore: Not enough space to cache rdd_163_2 in memory! (computed 52.0 MiB so far)\n",
      "23/10/30 16:12:53 WARN MemoryStore: Not enough space to cache rdd_163_2 in memory! (computed 52.0 MiB so far)\n",
      "23/10/30 16:12:53 WARN MemoryStore: Not enough space to cache rdd_163_0 in memory! (computed 52.0 MiB so far)\n",
      "23/10/30 16:12:57 WARN MemoryStore: Not enough space to cache rdd_163_0 in memory! (computed 52.0 MiB so far)\n",
      "23/10/30 16:12:57 WARN MemoryStore: Not enough space to cache rdd_163_2 in memory! (computed 52.0 MiB so far)\n",
      "23/10/30 16:13:01 WARN MemoryStore: Not enough space to cache rdd_163_2 in memory! (computed 52.0 MiB so far)\n",
      "23/10/30 16:13:01 WARN MemoryStore: Not enough space to cache rdd_163_0 in memory! (computed 52.0 MiB so far)\n",
      "23/10/30 16:13:05 WARN MemoryStore: Not enough space to cache rdd_163_0 in memory! (computed 52.0 MiB so far)\n",
      "23/10/30 16:13:05 WARN MemoryStore: Not enough space to cache rdd_163_2 in memory! (computed 52.0 MiB so far)\n",
      "23/10/30 16:13:09 WARN MemoryStore: Not enough space to cache rdd_163_0 in memory! (computed 52.0 MiB so far)\n",
      "23/10/30 16:13:09 WARN MemoryStore: Not enough space to cache rdd_163_2 in memory! (computed 52.0 MiB so far)\n",
      "23/10/30 16:13:13 WARN MemoryStore: Not enough space to cache rdd_163_0 in memory! (computed 52.0 MiB so far)\n",
      "23/10/30 16:13:13 WARN MemoryStore: Not enough space to cache rdd_163_2 in memory! (computed 52.0 MiB so far)\n",
      "23/10/30 16:13:17 WARN MemoryStore: Not enough space to cache rdd_163_0 in memory! (computed 52.0 MiB so far)\n",
      "23/10/30 16:13:17 WARN MemoryStore: Not enough space to cache rdd_163_2 in memory! (computed 52.0 MiB so far)\n",
      "23/10/30 16:13:21 WARN MemoryStore: Not enough space to cache rdd_163_0 in memory! (computed 52.0 MiB so far)\n",
      "23/10/30 16:13:21 WARN MemoryStore: Not enough space to cache rdd_163_2 in memory! (computed 52.0 MiB so far)\n",
      "23/10/30 16:13:24 WARN MemoryStore: Not enough space to cache rdd_163_0 in memory! (computed 52.0 MiB so far)\n",
      "23/10/30 16:13:24 WARN MemoryStore: Not enough space to cache rdd_163_2 in memory! (computed 52.0 MiB so far)\n",
      "23/10/30 16:13:28 WARN MemoryStore: Not enough space to cache rdd_163_0 in memory! (computed 52.0 MiB so far)\n",
      "23/10/30 16:13:28 WARN MemoryStore: Not enough space to cache rdd_163_2 in memory! (computed 52.0 MiB so far)\n",
      "23/10/30 16:13:32 WARN MemoryStore: Not enough space to cache rdd_163_0 in memory! (computed 52.0 MiB so far)\n",
      "23/10/30 16:13:32 WARN MemoryStore: Not enough space to cache rdd_163_2 in memory! (computed 52.0 MiB so far)\n",
      "23/10/30 16:13:36 WARN MemoryStore: Not enough space to cache rdd_163_0 in memory! (computed 52.0 MiB so far)\n",
      "23/10/30 16:13:36 WARN MemoryStore: Not enough space to cache rdd_163_2 in memory! (computed 52.0 MiB so far)\n",
      "23/10/30 16:13:40 WARN MemoryStore: Not enough space to cache rdd_163_2 in memory! (computed 52.0 MiB so far)\n",
      "23/10/30 16:13:40 WARN MemoryStore: Not enough space to cache rdd_163_0 in memory! (computed 52.0 MiB so far)\n",
      "23/10/30 16:13:44 WARN MemoryStore: Not enough space to cache rdd_163_0 in memory! (computed 52.0 MiB so far)\n",
      "23/10/30 16:13:44 WARN MemoryStore: Not enough space to cache rdd_163_2 in memory! (computed 52.0 MiB so far)\n",
      "23/10/30 16:13:48 WARN MemoryStore: Not enough space to cache rdd_163_0 in memory! (computed 52.0 MiB so far)\n",
      "23/10/30 16:13:48 WARN MemoryStore: Not enough space to cache rdd_163_2 in memory! (computed 52.0 MiB so far)\n",
      "23/10/30 16:13:52 WARN MemoryStore: Not enough space to cache rdd_163_0 in memory! (computed 52.0 MiB so far)\n",
      "23/10/30 16:13:52 WARN MemoryStore: Not enough space to cache rdd_163_2 in memory! (computed 52.0 MiB so far)\n",
      "23/10/30 16:13:56 WARN MemoryStore: Not enough space to cache rdd_163_2 in memory! (computed 52.0 MiB so far)\n",
      "23/10/30 16:13:56 WARN MemoryStore: Not enough space to cache rdd_163_0 in memory! (computed 52.0 MiB so far)\n",
      "23/10/30 16:14:00 WARN MemoryStore: Not enough space to cache rdd_163_0 in memory! (computed 52.0 MiB so far)\n",
      "23/10/30 16:14:00 WARN MemoryStore: Not enough space to cache rdd_163_2 in memory! (computed 52.0 MiB so far)\n",
      "23/10/30 16:14:03 WARN MemoryStore: Not enough space to cache rdd_163_2 in memory! (computed 52.0 MiB so far)\n",
      "23/10/30 16:14:03 WARN MemoryStore: Not enough space to cache rdd_163_0 in memory! (computed 52.0 MiB so far)\n",
      "23/10/30 16:14:07 WARN MemoryStore: Not enough space to cache rdd_163_0 in memory! (computed 52.0 MiB so far)\n",
      "23/10/30 16:14:07 WARN MemoryStore: Not enough space to cache rdd_163_2 in memory! (computed 52.0 MiB so far)\n",
      "23/10/30 16:14:11 WARN MemoryStore: Not enough space to cache rdd_163_0 in memory! (computed 52.0 MiB so far)\n",
      "23/10/30 16:14:11 WARN MemoryStore: Not enough space to cache rdd_163_2 in memory! (computed 52.0 MiB so far)\n",
      "23/10/30 16:14:15 WARN MemoryStore: Not enough space to cache rdd_163_0 in memory! (computed 52.0 MiB so far)\n",
      "23/10/30 16:14:15 WARN MemoryStore: Not enough space to cache rdd_163_2 in memory! (computed 52.0 MiB so far)\n",
      "23/10/30 16:14:19 WARN MemoryStore: Not enough space to cache rdd_163_0 in memory! (computed 52.0 MiB so far)\n",
      "23/10/30 16:14:19 WARN MemoryStore: Not enough space to cache rdd_163_2 in memory! (computed 52.0 MiB so far)\n",
      "23/10/30 16:14:23 WARN MemoryStore: Not enough space to cache rdd_163_0 in memory! (computed 52.0 MiB so far)\n",
      "23/10/30 16:14:23 WARN MemoryStore: Not enough space to cache rdd_163_2 in memory! (computed 52.0 MiB so far)\n",
      "                                                                                \r"
     ]
    },
    {
     "name": "stdout",
     "output_type": "stream",
     "text": [
      "Accuracy en el conjunto de entrenamiento: 0.985826725068905\n"
     ]
    },
    {
     "name": "stderr",
     "output_type": "stream",
     "text": [
      "[Stage 152:==========================================>              (3 + 1) / 4]\r"
     ]
    },
    {
     "name": "stdout",
     "output_type": "stream",
     "text": [
      "Accuracy en el conjunto de prueba: 0.9857002968476627\n"
     ]
    },
    {
     "name": "stderr",
     "output_type": "stream",
     "text": [
      "                                                                                \r"
     ]
    }
   ],
   "source": [
    "from pyspark.ml.evaluation import MulticlassClassificationEvaluator\n",
    "\n",
    "# Entrenar el modelo\n",
    "model = pipeline.fit(training_data)\n",
    "\n",
    "# Realizar predicciones en el conjunto de entrenamiento\n",
    "predictions_train = model.transform(training_data)\n",
    "\n",
    "# Calcular la precisión en el conjunto de entrenamiento\n",
    "evaluator_train = MulticlassClassificationEvaluator(labelCol='label_index', predictionCol='prediction', metricName='accuracy')\n",
    "accuracy_train = evaluator_train.evaluate(predictions_train)\n",
    "print('Accuracy en el conjunto de entrenamiento:', accuracy_train)\n",
    "\n",
    "# Realizar predicciones en el conjunto de prueba\n",
    "predictions_test = model.transform(testing_data)\n",
    "\n",
    "# Calcular la precisión en el conjunto de prueba\n",
    "accuracy_test = evaluator_train.evaluate(predictions_test)\n",
    "print('Accuracy en el conjunto de prueba:', accuracy_test)\n"
   ]
  },
  {
   "cell_type": "code",
   "execution_count": null,
   "id": "3bd93874-f17d-4e2d-b1d0-5d19ec285e25",
   "metadata": {},
   "outputs": [],
   "source": []
  }
 ],
 "metadata": {
  "kernelspec": {
   "display_name": "Python 3 (ipykernel)",
   "language": "python",
   "name": "python3"
  },
  "language_info": {
   "codemirror_mode": {
    "name": "ipython",
    "version": 3
   },
   "file_extension": ".py",
   "mimetype": "text/x-python",
   "name": "python",
   "nbconvert_exporter": "python",
   "pygments_lexer": "ipython3",
   "version": "3.11.4"
  }
 },
 "nbformat": 4,
 "nbformat_minor": 5
}
